{
  "nbformat": 4,
  "nbformat_minor": 0,
  "metadata": {
    "colab": {
      "name": "Untitled0.ipynb",
      "provenance": [],
      "toc_visible": true,
      "authorship_tag": "ABX9TyNTpf6g2ebCPsRlq22HKXIS",
      "include_colab_link": true
    },
    "kernelspec": {
      "name": "python3",
      "display_name": "Python 3"
    },
    "language_info": {
      "name": "python"
    }
  },
  "cells": [
    {
      "cell_type": "markdown",
      "metadata": {
        "id": "view-in-github",
        "colab_type": "text"
      },
      "source": [
        "<a href=\"https://colab.research.google.com/github/yeonjoo-lim/Profww/blob/master/Untitled0.ipynb\" target=\"_parent\"><img src=\"https://colab.research.google.com/assets/colab-badge.svg\" alt=\"Open In Colab\"/></a>"
      ]
    },
    {
      "cell_type": "code",
      "execution_count": 2,
      "metadata": {
        "colab": {
          "base_uri": "https://localhost:8080/"
        },
        "id": "lsXHiOg0t4Cd",
        "outputId": "4f34cfe5-b816-4d78-ff2f-ae4b67bdd1cc"
      },
      "outputs": [
        {
          "output_type": "stream",
          "name": "stdout",
          "text": [
            "The sum of age is =  41\n"
          ]
        }
      ],
      "source": [
        "member_age1 = 20\n",
        "member_age2 = 21\n",
        "Totage = member_age1 + member_age2\n",
        "print(\"The sum of age is = \", Totage) "
      ]
    },
    {
      "cell_type": "code",
      "source": [
        "number1 = 17\n",
        "number2 = 3\n",
        "\n",
        "q = number1 // number2\n",
        "r = number1 % number2\n",
        "\n",
        "print(\"목값:\" ,q , \"나머지 값:\", r)"
      ],
      "metadata": {
        "id": "FCXp1GNsvvuW",
        "outputId": "94df762a-c555-41ed-a87a-f56c3673c386",
        "colab": {
          "base_uri": "https://localhost:8080/"
        }
      },
      "execution_count": 3,
      "outputs": [
        {
          "output_type": "stream",
          "name": "stdout",
          "text": [
            "목값: 5 나머지 값: 2\n"
          ]
        }
      ]
    }
  ]
}